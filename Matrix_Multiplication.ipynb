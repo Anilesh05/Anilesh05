{
  "nbformat": 4,
  "nbformat_minor": 0,
  "metadata": {
    "colab": {
      "provenance": [],
      "authorship_tag": "ABX9TyOyXWPQLn1yjCFfqerBhjPB",
      "include_colab_link": true
    },
    "kernelspec": {
      "name": "python3",
      "display_name": "Python 3"
    },
    "language_info": {
      "name": "python"
    }
  },
  "cells": [
    {
      "cell_type": "markdown",
      "metadata": {
        "id": "view-in-github",
        "colab_type": "text"
      },
      "source": [
        "<a href=\"https://colab.research.google.com/github/Anilesh05/Anilesh05/blob/main/Matrix_Multiplication.ipynb\" target=\"_parent\"><img src=\"https://colab.research.google.com/assets/colab-badge.svg\" alt=\"Open In Colab\"/></a>"
      ]
    },
    {
      "cell_type": "markdown",
      "source": [
        "# ***Installing jdk using apt package manager***\n",
        "## ***Downloading and installing hadoop***"
      ],
      "metadata": {
        "id": "GnBpUf8M9h01"
      }
    },
    {
      "cell_type": "code",
      "execution_count": 1,
      "metadata": {
        "colab": {
          "base_uri": "https://localhost:8080/"
        },
        "id": "N8ajKr3Ew67N",
        "outputId": "613f384c-49fe-4086-a1a1-5d5b00d8a10e"
      },
      "outputs": [
        {
          "output_type": "stream",
          "name": "stdout",
          "text": [
            "Reading package lists... Done\n",
            "Building dependency tree... Done\n",
            "Reading state information... Done\n",
            "The following additional packages will be installed:\n",
            "  fonts-dejavu-core fonts-dejavu-extra libatk-wrapper-java libatk-wrapper-java-jni libfontenc1\n",
            "  libgail-common libgail18 libgtk2.0-0 libgtk2.0-bin libgtk2.0-common libice-dev librsvg2-common\n",
            "  libsm-dev libxkbfile1 libxt-dev libxtst6 libxxf86dga1 openjdk-8-jdk-headless openjdk-8-jre\n",
            "  openjdk-8-jre-headless x11-utils\n",
            "Suggested packages:\n",
            "  gvfs libice-doc libsm-doc libxt-doc openjdk-8-demo openjdk-8-source visualvm libnss-mdns\n",
            "  fonts-nanum fonts-ipafont-gothic fonts-ipafont-mincho fonts-wqy-microhei fonts-wqy-zenhei\n",
            "  fonts-indic mesa-utils\n",
            "The following NEW packages will be installed:\n",
            "  fonts-dejavu-core fonts-dejavu-extra libatk-wrapper-java libatk-wrapper-java-jni libfontenc1\n",
            "  libgail-common libgail18 libgtk2.0-0 libgtk2.0-bin libgtk2.0-common libice-dev librsvg2-common\n",
            "  libsm-dev libxkbfile1 libxt-dev libxtst6 libxxf86dga1 openjdk-8-jdk openjdk-8-jdk-headless\n",
            "  openjdk-8-jre openjdk-8-jre-headless x11-utils\n",
            "0 upgraded, 22 newly installed, 0 to remove and 45 not upgraded.\n",
            "Need to get 50.1 MB of archives.\n",
            "After this operation, 169 MB of additional disk space will be used.\n",
            "Get:1 http://archive.ubuntu.com/ubuntu jammy/main amd64 fonts-dejavu-core all 2.37-2build1 [1,041 kB]\n",
            "Get:2 http://archive.ubuntu.com/ubuntu jammy/main amd64 fonts-dejavu-extra all 2.37-2build1 [2,041 kB]\n",
            "Get:3 http://archive.ubuntu.com/ubuntu jammy/main amd64 libfontenc1 amd64 1:1.1.4-1build3 [14.7 kB]\n",
            "Get:4 http://archive.ubuntu.com/ubuntu jammy/main amd64 libxkbfile1 amd64 1:1.1.0-1build3 [71.8 kB]\n",
            "Get:5 http://archive.ubuntu.com/ubuntu jammy/main amd64 libxtst6 amd64 2:1.2.3-1build4 [13.4 kB]\n",
            "Get:6 http://archive.ubuntu.com/ubuntu jammy/main amd64 libxxf86dga1 amd64 2:1.1.5-0ubuntu3 [12.6 kB]\n",
            "Get:7 http://archive.ubuntu.com/ubuntu jammy/main amd64 x11-utils amd64 7.7+5build2 [206 kB]\n",
            "Get:8 http://archive.ubuntu.com/ubuntu jammy/main amd64 libatk-wrapper-java all 0.38.0-5build1 [53.1 kB]\n",
            "Get:9 http://archive.ubuntu.com/ubuntu jammy/main amd64 libatk-wrapper-java-jni amd64 0.38.0-5build1 [49.0 kB]\n",
            "Get:10 http://archive.ubuntu.com/ubuntu jammy/main amd64 libgtk2.0-common all 2.24.33-2ubuntu2 [125 kB]\n",
            "Get:11 http://archive.ubuntu.com/ubuntu jammy/main amd64 libgtk2.0-0 amd64 2.24.33-2ubuntu2 [2,037 kB]\n",
            "Get:12 http://archive.ubuntu.com/ubuntu jammy/main amd64 libgail18 amd64 2.24.33-2ubuntu2 [15.9 kB]\n",
            "Get:13 http://archive.ubuntu.com/ubuntu jammy/main amd64 libgail-common amd64 2.24.33-2ubuntu2 [132 kB]\n",
            "Get:14 http://archive.ubuntu.com/ubuntu jammy/main amd64 libgtk2.0-bin amd64 2.24.33-2ubuntu2 [7,932 B]\n",
            "Get:15 http://archive.ubuntu.com/ubuntu jammy/main amd64 libice-dev amd64 2:1.0.10-1build2 [51.4 kB]\n",
            "Get:16 http://archive.ubuntu.com/ubuntu jammy-updates/main amd64 librsvg2-common amd64 2.52.5+dfsg-3ubuntu0.2 [17.7 kB]\n",
            "Get:17 http://archive.ubuntu.com/ubuntu jammy/main amd64 libsm-dev amd64 2:1.2.3-1build2 [18.1 kB]\n",
            "Get:18 http://archive.ubuntu.com/ubuntu jammy/main amd64 libxt-dev amd64 1:1.2.1-1 [396 kB]\n",
            "Get:19 http://archive.ubuntu.com/ubuntu jammy-updates/universe amd64 openjdk-8-jre-headless amd64 8u402-ga-2ubuntu1~22.04 [30.8 MB]\n",
            "Get:20 http://archive.ubuntu.com/ubuntu jammy-updates/universe amd64 openjdk-8-jre amd64 8u402-ga-2ubuntu1~22.04 [75.5 kB]\n",
            "Get:21 http://archive.ubuntu.com/ubuntu jammy-updates/universe amd64 openjdk-8-jdk-headless amd64 8u402-ga-2ubuntu1~22.04 [8,873 kB]\n",
            "Get:22 http://archive.ubuntu.com/ubuntu jammy-updates/universe amd64 openjdk-8-jdk amd64 8u402-ga-2ubuntu1~22.04 [4,068 kB]\n",
            "Fetched 50.1 MB in 5s (11.0 MB/s)\n",
            "Selecting previously unselected package fonts-dejavu-core.\n",
            "(Reading database ... 121753 files and directories currently installed.)\n",
            "Preparing to unpack .../00-fonts-dejavu-core_2.37-2build1_all.deb ...\n",
            "Unpacking fonts-dejavu-core (2.37-2build1) ...\n",
            "Selecting previously unselected package fonts-dejavu-extra.\n",
            "Preparing to unpack .../01-fonts-dejavu-extra_2.37-2build1_all.deb ...\n",
            "Unpacking fonts-dejavu-extra (2.37-2build1) ...\n",
            "Selecting previously unselected package libfontenc1:amd64.\n",
            "Preparing to unpack .../02-libfontenc1_1%3a1.1.4-1build3_amd64.deb ...\n",
            "Unpacking libfontenc1:amd64 (1:1.1.4-1build3) ...\n",
            "Selecting previously unselected package libxkbfile1:amd64.\n",
            "Preparing to unpack .../03-libxkbfile1_1%3a1.1.0-1build3_amd64.deb ...\n",
            "Unpacking libxkbfile1:amd64 (1:1.1.0-1build3) ...\n",
            "Selecting previously unselected package libxtst6:amd64.\n",
            "Preparing to unpack .../04-libxtst6_2%3a1.2.3-1build4_amd64.deb ...\n",
            "Unpacking libxtst6:amd64 (2:1.2.3-1build4) ...\n",
            "Selecting previously unselected package libxxf86dga1:amd64.\n",
            "Preparing to unpack .../05-libxxf86dga1_2%3a1.1.5-0ubuntu3_amd64.deb ...\n",
            "Unpacking libxxf86dga1:amd64 (2:1.1.5-0ubuntu3) ...\n",
            "Selecting previously unselected package x11-utils.\n",
            "Preparing to unpack .../06-x11-utils_7.7+5build2_amd64.deb ...\n",
            "Unpacking x11-utils (7.7+5build2) ...\n",
            "Selecting previously unselected package libatk-wrapper-java.\n",
            "Preparing to unpack .../07-libatk-wrapper-java_0.38.0-5build1_all.deb ...\n",
            "Unpacking libatk-wrapper-java (0.38.0-5build1) ...\n",
            "Selecting previously unselected package libatk-wrapper-java-jni:amd64.\n",
            "Preparing to unpack .../08-libatk-wrapper-java-jni_0.38.0-5build1_amd64.deb ...\n",
            "Unpacking libatk-wrapper-java-jni:amd64 (0.38.0-5build1) ...\n",
            "Selecting previously unselected package libgtk2.0-common.\n",
            "Preparing to unpack .../09-libgtk2.0-common_2.24.33-2ubuntu2_all.deb ...\n",
            "Unpacking libgtk2.0-common (2.24.33-2ubuntu2) ...\n",
            "Selecting previously unselected package libgtk2.0-0:amd64.\n",
            "Preparing to unpack .../10-libgtk2.0-0_2.24.33-2ubuntu2_amd64.deb ...\n",
            "Unpacking libgtk2.0-0:amd64 (2.24.33-2ubuntu2) ...\n",
            "Selecting previously unselected package libgail18:amd64.\n",
            "Preparing to unpack .../11-libgail18_2.24.33-2ubuntu2_amd64.deb ...\n",
            "Unpacking libgail18:amd64 (2.24.33-2ubuntu2) ...\n",
            "Selecting previously unselected package libgail-common:amd64.\n",
            "Preparing to unpack .../12-libgail-common_2.24.33-2ubuntu2_amd64.deb ...\n",
            "Unpacking libgail-common:amd64 (2.24.33-2ubuntu2) ...\n",
            "Selecting previously unselected package libgtk2.0-bin.\n",
            "Preparing to unpack .../13-libgtk2.0-bin_2.24.33-2ubuntu2_amd64.deb ...\n",
            "Unpacking libgtk2.0-bin (2.24.33-2ubuntu2) ...\n",
            "Selecting previously unselected package libice-dev:amd64.\n",
            "Preparing to unpack .../14-libice-dev_2%3a1.0.10-1build2_amd64.deb ...\n",
            "Unpacking libice-dev:amd64 (2:1.0.10-1build2) ...\n",
            "Selecting previously unselected package librsvg2-common:amd64.\n",
            "Preparing to unpack .../15-librsvg2-common_2.52.5+dfsg-3ubuntu0.2_amd64.deb ...\n",
            "Unpacking librsvg2-common:amd64 (2.52.5+dfsg-3ubuntu0.2) ...\n",
            "Selecting previously unselected package libsm-dev:amd64.\n",
            "Preparing to unpack .../16-libsm-dev_2%3a1.2.3-1build2_amd64.deb ...\n",
            "Unpacking libsm-dev:amd64 (2:1.2.3-1build2) ...\n",
            "Selecting previously unselected package libxt-dev:amd64.\n",
            "Preparing to unpack .../17-libxt-dev_1%3a1.2.1-1_amd64.deb ...\n",
            "Unpacking libxt-dev:amd64 (1:1.2.1-1) ...\n",
            "Selecting previously unselected package openjdk-8-jre-headless:amd64.\n",
            "Preparing to unpack .../18-openjdk-8-jre-headless_8u402-ga-2ubuntu1~22.04_amd64.deb ...\n",
            "Unpacking openjdk-8-jre-headless:amd64 (8u402-ga-2ubuntu1~22.04) ...\n",
            "Selecting previously unselected package openjdk-8-jre:amd64.\n",
            "Preparing to unpack .../19-openjdk-8-jre_8u402-ga-2ubuntu1~22.04_amd64.deb ...\n",
            "Unpacking openjdk-8-jre:amd64 (8u402-ga-2ubuntu1~22.04) ...\n",
            "Selecting previously unselected package openjdk-8-jdk-headless:amd64.\n",
            "Preparing to unpack .../20-openjdk-8-jdk-headless_8u402-ga-2ubuntu1~22.04_amd64.deb ...\n",
            "Unpacking openjdk-8-jdk-headless:amd64 (8u402-ga-2ubuntu1~22.04) ...\n",
            "Selecting previously unselected package openjdk-8-jdk:amd64.\n",
            "Preparing to unpack .../21-openjdk-8-jdk_8u402-ga-2ubuntu1~22.04_amd64.deb ...\n",
            "Unpacking openjdk-8-jdk:amd64 (8u402-ga-2ubuntu1~22.04) ...\n",
            "Setting up libice-dev:amd64 (2:1.0.10-1build2) ...\n",
            "Setting up libsm-dev:amd64 (2:1.2.3-1build2) ...\n",
            "Setting up libxtst6:amd64 (2:1.2.3-1build4) ...\n",
            "Setting up libxxf86dga1:amd64 (2:1.1.5-0ubuntu3) ...\n",
            "Setting up libfontenc1:amd64 (1:1.1.4-1build3) ...\n",
            "Setting up libxt-dev:amd64 (1:1.2.1-1) ...\n",
            "Setting up openjdk-8-jre-headless:amd64 (8u402-ga-2ubuntu1~22.04) ...\n",
            "update-alternatives: using /usr/lib/jvm/java-8-openjdk-amd64/jre/bin/orbd to provide /usr/bin/orbd (orbd) in auto mode\n",
            "update-alternatives: using /usr/lib/jvm/java-8-openjdk-amd64/jre/bin/servertool to provide /usr/bin/servertool (servertool) in auto mode\n",
            "update-alternatives: using /usr/lib/jvm/java-8-openjdk-amd64/jre/bin/tnameserv to provide /usr/bin/tnameserv (tnameserv) in auto mode\n",
            "Setting up fonts-dejavu-core (2.37-2build1) ...\n",
            "Setting up librsvg2-common:amd64 (2.52.5+dfsg-3ubuntu0.2) ...\n",
            "Setting up fonts-dejavu-extra (2.37-2build1) ...\n",
            "Setting up libgtk2.0-common (2.24.33-2ubuntu2) ...\n",
            "Setting up libxkbfile1:amd64 (1:1.1.0-1build3) ...\n",
            "Setting up libgtk2.0-0:amd64 (2.24.33-2ubuntu2) ...\n",
            "Setting up openjdk-8-jdk-headless:amd64 (8u402-ga-2ubuntu1~22.04) ...\n",
            "update-alternatives: using /usr/lib/jvm/java-8-openjdk-amd64/bin/clhsdb to provide /usr/bin/clhsdb (clhsdb) in auto mode\n",
            "update-alternatives: using /usr/lib/jvm/java-8-openjdk-amd64/bin/extcheck to provide /usr/bin/extcheck (extcheck) in auto mode\n",
            "update-alternatives: using /usr/lib/jvm/java-8-openjdk-amd64/bin/hsdb to provide /usr/bin/hsdb (hsdb) in auto mode\n",
            "update-alternatives: using /usr/lib/jvm/java-8-openjdk-amd64/bin/idlj to provide /usr/bin/idlj (idlj) in auto mode\n",
            "update-alternatives: using /usr/lib/jvm/java-8-openjdk-amd64/bin/javah to provide /usr/bin/javah (javah) in auto mode\n",
            "update-alternatives: using /usr/lib/jvm/java-8-openjdk-amd64/bin/jhat to provide /usr/bin/jhat (jhat) in auto mode\n",
            "update-alternatives: using /usr/lib/jvm/java-8-openjdk-amd64/bin/jsadebugd to provide /usr/bin/jsadebugd (jsadebugd) in auto mode\n",
            "update-alternatives: using /usr/lib/jvm/java-8-openjdk-amd64/bin/native2ascii to provide /usr/bin/native2ascii (native2ascii) in auto mode\n",
            "update-alternatives: using /usr/lib/jvm/java-8-openjdk-amd64/bin/schemagen to provide /usr/bin/schemagen (schemagen) in auto mode\n",
            "update-alternatives: using /usr/lib/jvm/java-8-openjdk-amd64/bin/wsgen to provide /usr/bin/wsgen (wsgen) in auto mode\n",
            "update-alternatives: using /usr/lib/jvm/java-8-openjdk-amd64/bin/wsimport to provide /usr/bin/wsimport (wsimport) in auto mode\n",
            "update-alternatives: using /usr/lib/jvm/java-8-openjdk-amd64/bin/xjc to provide /usr/bin/xjc (xjc) in auto mode\n",
            "Setting up libgail18:amd64 (2.24.33-2ubuntu2) ...\n",
            "Setting up libgtk2.0-bin (2.24.33-2ubuntu2) ...\n",
            "Setting up x11-utils (7.7+5build2) ...\n",
            "Setting up libatk-wrapper-java (0.38.0-5build1) ...\n",
            "Setting up libgail-common:amd64 (2.24.33-2ubuntu2) ...\n",
            "Setting up libatk-wrapper-java-jni:amd64 (0.38.0-5build1) ...\n",
            "Setting up openjdk-8-jre:amd64 (8u402-ga-2ubuntu1~22.04) ...\n",
            "update-alternatives: using /usr/lib/jvm/java-8-openjdk-amd64/jre/bin/policytool to provide /usr/bin/policytool (policytool) in auto mode\n",
            "Setting up openjdk-8-jdk:amd64 (8u402-ga-2ubuntu1~22.04) ...\n",
            "update-alternatives: using /usr/lib/jvm/java-8-openjdk-amd64/bin/appletviewer to provide /usr/bin/appletviewer (appletviewer) in auto mode\n",
            "update-alternatives: using /usr/lib/jvm/java-8-openjdk-amd64/bin/jconsole to provide /usr/bin/jconsole (jconsole) in auto mode\n",
            "Processing triggers for hicolor-icon-theme (0.17-2) ...\n",
            "Processing triggers for libc-bin (2.35-0ubuntu3.4) ...\n",
            "/sbin/ldconfig.real: /usr/local/lib/libtbbbind.so.3 is not a symbolic link\n",
            "\n",
            "/sbin/ldconfig.real: /usr/local/lib/libtbbmalloc_proxy.so.2 is not a symbolic link\n",
            "\n",
            "/sbin/ldconfig.real: /usr/local/lib/libtbb.so.12 is not a symbolic link\n",
            "\n",
            "/sbin/ldconfig.real: /usr/local/lib/libtbbbind_2_0.so.3 is not a symbolic link\n",
            "\n",
            "/sbin/ldconfig.real: /usr/local/lib/libtbbmalloc.so.2 is not a symbolic link\n",
            "\n",
            "/sbin/ldconfig.real: /usr/local/lib/libtbbbind_2_5.so.3 is not a symbolic link\n",
            "\n",
            "Processing triggers for man-db (2.10.2-1) ...\n",
            "Processing triggers for libgdk-pixbuf-2.0-0:amd64 (2.42.8+dfsg-1ubuntu0.2) ...\n",
            "Processing triggers for fontconfig (2.13.1-4.2ubuntu5) ...\n",
            "--2024-04-05 14:32:29--  https://dlcdn.apache.org/hadoop/common/hadoop-3.3.6/hadoop-3.3.6.tar.gz\n",
            "Resolving dlcdn.apache.org (dlcdn.apache.org)... 151.101.2.132, 2a04:4e42::644\n",
            "Connecting to dlcdn.apache.org (dlcdn.apache.org)|151.101.2.132|:443... connected.\n",
            "HTTP request sent, awaiting response... 200 OK\n",
            "Length: 730107476 (696M) [application/x-gzip]\n",
            "Saving to: ‘hadoop-3.3.6.tar.gz’\n",
            "\n",
            "hadoop-3.3.6.tar.gz 100%[===================>] 696.28M   132MB/s    in 4.8s    \n",
            "\n",
            "2024-04-05 14:32:34 (144 MB/s) - ‘hadoop-3.3.6.tar.gz’ saved [730107476/730107476]\n",
            "\n"
          ]
        }
      ],
      "source": [
        "!apt-get install openjdk-8-jdk\n",
        "!wget https://dlcdn.apache.org/hadoop/common/hadoop-3.3.6/hadoop-3.3.6.tar.gz\n",
        "!tar fx hadoop-3.3.6.tar.gz\n",
        "import os\n",
        "os.environ[\"JAVA_HOME\"] = \"/usr/lib/jvm/java-8-openjdk-amd64\"\n",
        "os.environ[\"HADOOP_HOME\"] = \"/content/hadoop-3.3.6\"\n",
        "!ln -s /content/hadoop-3.3.6/bin/* /usr/bin"
      ]
    },
    {
      "cell_type": "markdown",
      "source": [
        "#***Create Input Directory***"
      ],
      "metadata": {
        "id": "LCQV7UHKtVYr"
      }
    },
    {
      "cell_type": "code",
      "source": [
        "!hdfs dfs -mkdir input"
      ],
      "metadata": {
        "id": "2Po2glo7xr6n"
      },
      "execution_count": 2,
      "outputs": []
    },
    {
      "cell_type": "markdown",
      "source": [
        "# ***Create a python file mapper.py***"
      ],
      "metadata": {
        "id": "FTOBTf0fqB3O"
      }
    },
    {
      "cell_type": "code",
      "source": [
        "%%writefile mapper.py\n",
        "#!/usr/bin/env python\n",
        "import sys\n",
        "\n",
        "# Number of rows in A\n",
        "m = 2\n",
        "# Number of columns in B\n",
        "p = 3\n",
        "\n",
        "# Read input from standard input\n",
        "for line in sys.stdin:\n",
        "    # Remove leading and trailing whitespace\n",
        "    line = line.strip()\n",
        "    # Split the line into entry data\n",
        "    entry = line.split(\",\")\n",
        "    # Check if the entry has the expected number of elements\n",
        "    if len(entry) == 4:\n",
        "        # Set row, column, and value for this entry\n",
        "        row = int(entry[1])\n",
        "        col = int(entry[2])\n",
        "        value = float(entry[3])\n",
        "        # Check if this is an entry in matrix A\n",
        "        if entry[0] == \"A\":\n",
        "            # Generate the necessary key-value pairs\n",
        "            for k in range(p):\n",
        "                print('{0:d},{1:d}\\tA,{2:d},{3:f}'.format(row, k, col, value))\n",
        "        # Check if this is an entry in matrix B\n",
        "        elif entry[0] == \"B\":\n",
        "            # Generate the necessary key-value pairs\n",
        "            for k in range(m):\n",
        "                print('{0:d},{1:d}\\tB,{2:d},{3:f}'.format(k, col, row, value))"
      ],
      "metadata": {
        "colab": {
          "base_uri": "https://localhost:8080/"
        },
        "id": "zB7IxlKYpHYS",
        "outputId": "cce0311e-e5e6-45c9-87c1-854349ac6223"
      },
      "execution_count": 3,
      "outputs": [
        {
          "output_type": "stream",
          "name": "stdout",
          "text": [
            "Writing mapper.py\n"
          ]
        }
      ]
    },
    {
      "cell_type": "markdown",
      "source": [
        "# ***Create a python file reducer.py***"
      ],
      "metadata": {
        "id": "S0HP_JtrqLZl"
      }
    },
    {
      "cell_type": "code",
      "source": [
        "%%writefile reducer.py\n",
        "#!/usr/bin/env python\n",
        "\n",
        "import sys\n",
        "\n",
        "# Number of columns of A/rows of B\n",
        "n = 5\n",
        "\n",
        "# Create data structures to hold the current row/column values\n",
        "current_key = None\n",
        "current_res = 0.0\n",
        "value_dict = {}\n",
        "\n",
        "# Input comes from STDIN (stream data that goes to the program)\n",
        "for line in sys.stdin:\n",
        "    # Remove leading and trailing whitespace\n",
        "    line = line.strip()\n",
        "\n",
        "    # Get key/value\n",
        "    key, value = line.split('\\t', 1)\n",
        "\n",
        "    # Parse key/value input\n",
        "    try:\n",
        "        row, col = map(int, key.split(','))\n",
        "        value = value.split(',')\n",
        "        replicate_key, element_value = int(value[1]), float(value[2])\n",
        "        key = (row, col)\n",
        "    except:\n",
        "        continue\n",
        "\n",
        "    # If we are still on the same key...\n",
        "    if key == current_key:\n",
        "        # Process key/value pair\n",
        "        if replicate_key not in value_dict:\n",
        "            value_dict[replicate_key] = [element_value]\n",
        "        else:\n",
        "            value_dict[replicate_key].append(element_value)\n",
        "\n",
        "    # Otherwise, if this is a new key...\n",
        "    else:\n",
        "        # If this is a new key and not the first key we've seen\n",
        "        if current_key:\n",
        "            # Compute/output result to STDOUT\n",
        "            for j in range(n):\n",
        "                if j in value_dict and len(value_dict[j]) == 2:\n",
        "                    current_res += value_dict[j][0] * value_dict[j][1]\n",
        "            print('({0:d},{1:d}),{2:f}'.format(row, col, current_res))\n",
        "\n",
        "        current_key = key\n",
        "        value_dict = {}\n",
        "\n",
        "        # Process input for new key\n",
        "        value_dict[replicate_key] = [element_value]\n",
        "        current_res = 0.0\n",
        "\n",
        "# Compute/output result for the last key\n",
        "if current_key:\n",
        "    for j in range(n):\n",
        "        if j in value_dict and len(value_dict[j]) == 2:\n",
        "            current_res += value_dict[j][0] * value_dict[j][1]\n",
        "    print('({0:d},{1:d}),{2:f}'.format(row, col, current_res))\n"
      ],
      "metadata": {
        "id": "bW8nIIYjm9Wr",
        "colab": {
          "base_uri": "https://localhost:8080/"
        },
        "outputId": "8fd8d6bc-1a6c-40f6-8897-bbf5a2dd01c8"
      },
      "execution_count": 4,
      "outputs": [
        {
          "output_type": "stream",
          "name": "stdout",
          "text": [
            "Writing reducer.py\n"
          ]
        }
      ]
    },
    {
      "cell_type": "markdown",
      "source": [
        "# ***Create a text file matrix.txt***"
      ],
      "metadata": {
        "id": "_5eHcyZWs5MO"
      }
    },
    {
      "cell_type": "code",
      "source": [
        "%%writefile input/matrix.txt\n",
        "\n",
        "A,0,0,0.0\n",
        "A,0,1,1.0\n",
        "A,0,2,2.0\n",
        "A,0,3,3.0\n",
        "A,0,4,4.0\n",
        "A,1,0,5.0\n",
        "A,1,1,6.0\n",
        "A,1,2,7.0\n",
        "A,1,3,8.0\n",
        "A,1,4,9.0\n",
        "B,0,0,0.0\n",
        "B,0,1,1.0\n",
        "B,0,2,2.0\n",
        "B,1,0,3.0\n",
        "B,1,1,4.0\n",
        "B,1,2,5.0\n",
        "B,2,0,6.0\n",
        "B,2,1,7.0\n",
        "B,2,2,8.0\n",
        "B,3,0,9.0\n",
        "B,3,1,10.0\n",
        "B,3,2,11.0\n",
        "B,4,0,12.0\n",
        "B,4,1,13.0\n",
        "B,4,2,14.0"
      ],
      "metadata": {
        "id": "2O1dIFCgnAlN",
        "colab": {
          "base_uri": "https://localhost:8080/"
        },
        "outputId": "74ec7fbb-ee58-4fe3-b842-417a24920c84"
      },
      "execution_count": 5,
      "outputs": [
        {
          "output_type": "stream",
          "name": "stdout",
          "text": [
            "Writing input/matrix.txt\n"
          ]
        }
      ]
    },
    {
      "cell_type": "markdown",
      "source": [
        "# ***Run Matrix mulitplication through hadoop mapreduce***"
      ],
      "metadata": {
        "id": "K40uBdyOqRn-"
      }
    },
    {
      "cell_type": "code",
      "source": [
        "!hadoop jar /content/hadoop-3.3.6/share/hadoop/tools/lib/hadoop-streaming-3.3.6.jar \\\n",
        "    -files mapper.py,reducer.py \\\n",
        "    -mapper mapper.py \\\n",
        "    -reducer reducer.py \\\n",
        "    -input input \\\n",
        "    -output output"
      ],
      "metadata": {
        "id": "d0nDTOhL-Nb2",
        "colab": {
          "base_uri": "https://localhost:8080/"
        },
        "outputId": "8833b07b-6ba9-47d0-a8e1-bf24c5c2fe8c"
      },
      "execution_count": 6,
      "outputs": [
        {
          "output_type": "stream",
          "name": "stdout",
          "text": [
            "2024-04-05 14:36:40,666 INFO impl.MetricsConfig: Loaded properties from hadoop-metrics2.properties\n",
            "2024-04-05 14:36:40,792 INFO impl.MetricsSystemImpl: Scheduled Metric snapshot period at 10 second(s).\n",
            "2024-04-05 14:36:40,792 INFO impl.MetricsSystemImpl: JobTracker metrics system started\n",
            "2024-04-05 14:36:40,819 WARN impl.MetricsSystemImpl: JobTracker metrics system already initialized!\n",
            "2024-04-05 14:36:41,177 INFO mapred.FileInputFormat: Total input files to process : 1\n",
            "2024-04-05 14:36:41,202 INFO mapreduce.JobSubmitter: number of splits:1\n",
            "2024-04-05 14:36:41,392 INFO mapreduce.JobSubmitter: Submitting tokens for job: job_local178348470_0001\n",
            "2024-04-05 14:36:41,392 INFO mapreduce.JobSubmitter: Executing with tokens: []\n",
            "2024-04-05 14:36:41,754 INFO mapred.LocalDistributedCacheManager: Localized file:/content/mapper.py as file:/tmp/hadoop-root/mapred/local/job_local178348470_0001_19d031a0-deb9-4fa0-a6d3-243a488b4066/mapper.py\n",
            "2024-04-05 14:36:41,787 INFO mapred.LocalDistributedCacheManager: Localized file:/content/reducer.py as file:/tmp/hadoop-root/mapred/local/job_local178348470_0001_a9b407a5-9255-4957-ba67-8108e12d235d/reducer.py\n",
            "2024-04-05 14:36:41,976 INFO mapreduce.Job: The url to track the job: http://localhost:8080/\n",
            "2024-04-05 14:36:41,978 INFO mapreduce.Job: Running job: job_local178348470_0001\n",
            "2024-04-05 14:36:41,986 INFO mapred.LocalJobRunner: OutputCommitter set in config null\n",
            "2024-04-05 14:36:41,988 INFO mapred.LocalJobRunner: OutputCommitter is org.apache.hadoop.mapred.FileOutputCommitter\n",
            "2024-04-05 14:36:41,998 INFO output.FileOutputCommitter: File Output Committer Algorithm version is 2\n",
            "2024-04-05 14:36:41,998 INFO output.FileOutputCommitter: FileOutputCommitter skip cleanup _temporary folders under output directory:false, ignore cleanup failures: false\n",
            "2024-04-05 14:36:42,156 INFO mapred.LocalJobRunner: Waiting for map tasks\n",
            "2024-04-05 14:36:42,161 INFO mapred.LocalJobRunner: Starting task: attempt_local178348470_0001_m_000000_0\n",
            "2024-04-05 14:36:42,200 INFO output.FileOutputCommitter: File Output Committer Algorithm version is 2\n",
            "2024-04-05 14:36:42,200 INFO output.FileOutputCommitter: FileOutputCommitter skip cleanup _temporary folders under output directory:false, ignore cleanup failures: false\n",
            "2024-04-05 14:36:42,233 INFO mapred.Task:  Using ResourceCalculatorProcessTree : [ ]\n",
            "2024-04-05 14:36:42,247 INFO mapred.MapTask: Processing split: file:/content/input/matrix.txt:0+256\n",
            "2024-04-05 14:36:42,264 INFO mapred.MapTask: numReduceTasks: 1\n",
            "2024-04-05 14:36:42,460 INFO mapred.MapTask: (EQUATOR) 0 kvi 26214396(104857584)\n",
            "2024-04-05 14:36:42,460 INFO mapred.MapTask: mapreduce.task.io.sort.mb: 100\n",
            "2024-04-05 14:36:42,460 INFO mapred.MapTask: soft limit at 83886080\n",
            "2024-04-05 14:36:42,460 INFO mapred.MapTask: bufstart = 0; bufvoid = 104857600\n",
            "2024-04-05 14:36:42,460 INFO mapred.MapTask: kvstart = 26214396; length = 6553600\n",
            "2024-04-05 14:36:42,465 INFO mapred.MapTask: Map output collector class = org.apache.hadoop.mapred.MapTask$MapOutputBuffer\n",
            "2024-04-05 14:36:42,476 INFO streaming.PipeMapRed: PipeMapRed exec [/content/./mapper.py]\n",
            "2024-04-05 14:36:42,482 INFO Configuration.deprecation: mapred.work.output.dir is deprecated. Instead, use mapreduce.task.output.dir\n",
            "2024-04-05 14:36:42,483 INFO Configuration.deprecation: mapred.local.dir is deprecated. Instead, use mapreduce.cluster.local.dir\n",
            "2024-04-05 14:36:42,484 INFO Configuration.deprecation: map.input.file is deprecated. Instead, use mapreduce.map.input.file\n",
            "2024-04-05 14:36:42,484 INFO Configuration.deprecation: map.input.length is deprecated. Instead, use mapreduce.map.input.length\n",
            "2024-04-05 14:36:42,485 INFO Configuration.deprecation: mapred.job.id is deprecated. Instead, use mapreduce.job.id\n",
            "2024-04-05 14:36:42,486 INFO Configuration.deprecation: mapred.task.partition is deprecated. Instead, use mapreduce.task.partition\n",
            "2024-04-05 14:36:42,487 INFO Configuration.deprecation: map.input.start is deprecated. Instead, use mapreduce.map.input.start\n",
            "2024-04-05 14:36:42,488 INFO Configuration.deprecation: mapred.task.is.map is deprecated. Instead, use mapreduce.task.ismap\n",
            "2024-04-05 14:36:42,488 INFO Configuration.deprecation: mapred.task.id is deprecated. Instead, use mapreduce.task.attempt.id\n",
            "2024-04-05 14:36:42,489 INFO Configuration.deprecation: mapred.tip.id is deprecated. Instead, use mapreduce.task.id\n",
            "2024-04-05 14:36:42,489 INFO Configuration.deprecation: mapred.skip.on is deprecated. Instead, use mapreduce.job.skiprecords\n",
            "2024-04-05 14:36:42,490 INFO Configuration.deprecation: user.name is deprecated. Instead, use mapreduce.job.user.name\n",
            "2024-04-05 14:36:42,523 INFO streaming.PipeMapRed: R/W/S=1/0/0 in:NA [rec/s] out:NA [rec/s]\n",
            "2024-04-05 14:36:42,523 INFO streaming.PipeMapRed: R/W/S=10/0/0 in:NA [rec/s] out:NA [rec/s]\n",
            "2024-04-05 14:36:42,603 INFO streaming.PipeMapRed: Records R/W=26/1\n",
            "2024-04-05 14:36:42,611 INFO streaming.PipeMapRed: MRErrorThread done\n",
            "2024-04-05 14:36:42,612 INFO streaming.PipeMapRed: mapRedFinished\n",
            "2024-04-05 14:36:42,616 INFO mapred.LocalJobRunner: \n",
            "2024-04-05 14:36:42,617 INFO mapred.MapTask: Starting flush of map output\n",
            "2024-04-05 14:36:42,617 INFO mapred.MapTask: Spilling map output\n",
            "2024-04-05 14:36:42,617 INFO mapred.MapTask: bufstart = 0; bufend = 1030; bufvoid = 104857600\n",
            "2024-04-05 14:36:42,617 INFO mapred.MapTask: kvstart = 26214396(104857584); kvend = 26214160(104856640); length = 237/6553600\n",
            "2024-04-05 14:36:42,628 INFO mapred.MapTask: Finished spill 0\n",
            "2024-04-05 14:36:42,643 INFO mapred.Task: Task:attempt_local178348470_0001_m_000000_0 is done. And is in the process of committing\n",
            "2024-04-05 14:36:42,645 INFO mapred.LocalJobRunner: Records R/W=26/1\n",
            "2024-04-05 14:36:42,646 INFO mapred.Task: Task 'attempt_local178348470_0001_m_000000_0' done.\n",
            "2024-04-05 14:36:42,656 INFO mapred.Task: Final Counters for attempt_local178348470_0001_m_000000_0: Counters: 17\n",
            "\tFile System Counters\n",
            "\t\tFILE: Number of bytes read=144425\n",
            "\t\tFILE: Number of bytes written=786518\n",
            "\t\tFILE: Number of read operations=0\n",
            "\t\tFILE: Number of large read operations=0\n",
            "\t\tFILE: Number of write operations=0\n",
            "\tMap-Reduce Framework\n",
            "\t\tMap input records=26\n",
            "\t\tMap output records=60\n",
            "\t\tMap output bytes=1030\n",
            "\t\tMap output materialized bytes=1156\n",
            "\t\tInput split bytes=82\n",
            "\t\tCombine input records=0\n",
            "\t\tSpilled Records=60\n",
            "\t\tFailed Shuffles=0\n",
            "\t\tMerged Map outputs=0\n",
            "\t\tGC time elapsed (ms)=0\n",
            "\t\tTotal committed heap usage (bytes)=308805632\n",
            "\tFile Input Format Counters \n",
            "\t\tBytes Read=256\n",
            "2024-04-05 14:36:42,656 INFO mapred.LocalJobRunner: Finishing task: attempt_local178348470_0001_m_000000_0\n",
            "2024-04-05 14:36:42,656 INFO mapred.LocalJobRunner: map task executor complete.\n",
            "2024-04-05 14:36:42,660 INFO mapred.LocalJobRunner: Waiting for reduce tasks\n",
            "2024-04-05 14:36:42,660 INFO mapred.LocalJobRunner: Starting task: attempt_local178348470_0001_r_000000_0\n",
            "2024-04-05 14:36:42,670 INFO output.FileOutputCommitter: File Output Committer Algorithm version is 2\n",
            "2024-04-05 14:36:42,670 INFO output.FileOutputCommitter: FileOutputCommitter skip cleanup _temporary folders under output directory:false, ignore cleanup failures: false\n",
            "2024-04-05 14:36:42,671 INFO mapred.Task:  Using ResourceCalculatorProcessTree : [ ]\n",
            "2024-04-05 14:36:42,678 INFO mapred.ReduceTask: Using ShuffleConsumerPlugin: org.apache.hadoop.mapreduce.task.reduce.Shuffle@137aa7d5\n",
            "2024-04-05 14:36:42,681 WARN impl.MetricsSystemImpl: JobTracker metrics system already initialized!\n",
            "2024-04-05 14:36:42,709 INFO reduce.MergeManagerImpl: MergerManager: memoryLimit=2117966208, maxSingleShuffleLimit=529491552, mergeThreshold=1397857792, ioSortFactor=10, memToMemMergeOutputsThreshold=10\n",
            "2024-04-05 14:36:42,720 INFO reduce.EventFetcher: attempt_local178348470_0001_r_000000_0 Thread started: EventFetcher for fetching Map Completion Events\n",
            "2024-04-05 14:36:42,758 INFO reduce.LocalFetcher: localfetcher#1 about to shuffle output of map attempt_local178348470_0001_m_000000_0 decomp: 1152 len: 1156 to MEMORY\n",
            "2024-04-05 14:36:42,763 INFO reduce.InMemoryMapOutput: Read 1152 bytes from map-output for attempt_local178348470_0001_m_000000_0\n",
            "2024-04-05 14:36:42,766 INFO reduce.MergeManagerImpl: closeInMemoryFile -> map-output of size: 1152, inMemoryMapOutputs.size() -> 1, commitMemory -> 0, usedMemory ->1152\n",
            "2024-04-05 14:36:42,768 INFO reduce.EventFetcher: EventFetcher is interrupted.. Returning\n",
            "2024-04-05 14:36:42,769 INFO mapred.LocalJobRunner: 1 / 1 copied.\n",
            "2024-04-05 14:36:42,769 INFO reduce.MergeManagerImpl: finalMerge called with 1 in-memory map-outputs and 0 on-disk map-outputs\n",
            "2024-04-05 14:36:42,779 INFO mapred.Merger: Merging 1 sorted segments\n",
            "2024-04-05 14:36:42,779 INFO mapred.Merger: Down to the last merge-pass, with 1 segments left of total size: 1146 bytes\n",
            "2024-04-05 14:36:42,782 INFO reduce.MergeManagerImpl: Merged 1 segments, 1152 bytes to disk to satisfy reduce memory limit\n",
            "2024-04-05 14:36:42,783 INFO reduce.MergeManagerImpl: Merging 1 files, 1156 bytes from disk\n",
            "2024-04-05 14:36:42,784 INFO reduce.MergeManagerImpl: Merging 0 segments, 0 bytes from memory into reduce\n",
            "2024-04-05 14:36:42,784 INFO mapred.Merger: Merging 1 sorted segments\n",
            "2024-04-05 14:36:42,785 INFO mapred.Merger: Down to the last merge-pass, with 1 segments left of total size: 1146 bytes\n",
            "2024-04-05 14:36:42,785 INFO mapred.LocalJobRunner: 1 / 1 copied.\n",
            "2024-04-05 14:36:42,793 INFO streaming.PipeMapRed: PipeMapRed exec [/content/./reducer.py]\n",
            "2024-04-05 14:36:42,796 INFO Configuration.deprecation: mapred.job.tracker is deprecated. Instead, use mapreduce.jobtracker.address\n",
            "2024-04-05 14:36:42,799 INFO Configuration.deprecation: mapred.map.tasks is deprecated. Instead, use mapreduce.job.maps\n",
            "2024-04-05 14:36:42,823 INFO streaming.PipeMapRed: R/W/S=1/0/0 in:NA [rec/s] out:NA [rec/s]\n",
            "2024-04-05 14:36:42,823 INFO streaming.PipeMapRed: R/W/S=10/0/0 in:NA [rec/s] out:NA [rec/s]\n",
            "2024-04-05 14:36:42,900 INFO streaming.PipeMapRed: Records R/W=60/1\n",
            "2024-04-05 14:36:42,907 INFO streaming.PipeMapRed: MRErrorThread done\n",
            "2024-04-05 14:36:42,908 INFO streaming.PipeMapRed: mapRedFinished\n",
            "2024-04-05 14:36:42,909 INFO mapred.Task: Task:attempt_local178348470_0001_r_000000_0 is done. And is in the process of committing\n",
            "2024-04-05 14:36:42,910 INFO mapred.LocalJobRunner: 1 / 1 copied.\n",
            "2024-04-05 14:36:42,910 INFO mapred.Task: Task attempt_local178348470_0001_r_000000_0 is allowed to commit now\n",
            "2024-04-05 14:36:42,912 INFO output.FileOutputCommitter: Saved output of task 'attempt_local178348470_0001_r_000000_0' to file:/content/output\n",
            "2024-04-05 14:36:42,914 INFO mapred.LocalJobRunner: Records R/W=60/1 > reduce\n",
            "2024-04-05 14:36:42,914 INFO mapred.Task: Task 'attempt_local178348470_0001_r_000000_0' done.\n",
            "2024-04-05 14:36:42,916 INFO mapred.Task: Final Counters for attempt_local178348470_0001_r_000000_0: Counters: 24\n",
            "\tFile System Counters\n",
            "\t\tFILE: Number of bytes read=146769\n",
            "\t\tFILE: Number of bytes written=787793\n",
            "\t\tFILE: Number of read operations=0\n",
            "\t\tFILE: Number of large read operations=0\n",
            "\t\tFILE: Number of write operations=0\n",
            "\tMap-Reduce Framework\n",
            "\t\tCombine input records=0\n",
            "\t\tCombine output records=0\n",
            "\t\tReduce input groups=6\n",
            "\t\tReduce shuffle bytes=1156\n",
            "\t\tReduce input records=60\n",
            "\t\tReduce output records=6\n",
            "\t\tSpilled Records=60\n",
            "\t\tShuffled Maps =1\n",
            "\t\tFailed Shuffles=0\n",
            "\t\tMerged Map outputs=1\n",
            "\t\tGC time elapsed (ms)=0\n",
            "\t\tTotal committed heap usage (bytes)=308805632\n",
            "\tShuffle Errors\n",
            "\t\tBAD_ID=0\n",
            "\t\tCONNECTION=0\n",
            "\t\tIO_ERROR=0\n",
            "\t\tWRONG_LENGTH=0\n",
            "\t\tWRONG_MAP=0\n",
            "\t\tWRONG_REDUCE=0\n",
            "\tFile Output Format Counters \n",
            "\t\tBytes Written=119\n",
            "2024-04-05 14:36:42,917 INFO mapred.LocalJobRunner: Finishing task: attempt_local178348470_0001_r_000000_0\n",
            "2024-04-05 14:36:42,917 INFO mapred.LocalJobRunner: reduce task executor complete.\n",
            "2024-04-05 14:36:42,985 INFO mapreduce.Job: Job job_local178348470_0001 running in uber mode : false\n",
            "2024-04-05 14:36:42,986 INFO mapreduce.Job:  map 100% reduce 100%\n",
            "2024-04-05 14:36:42,988 INFO mapreduce.Job: Job job_local178348470_0001 completed successfully\n",
            "2024-04-05 14:36:42,996 INFO mapreduce.Job: Counters: 30\n",
            "\tFile System Counters\n",
            "\t\tFILE: Number of bytes read=291194\n",
            "\t\tFILE: Number of bytes written=1574311\n",
            "\t\tFILE: Number of read operations=0\n",
            "\t\tFILE: Number of large read operations=0\n",
            "\t\tFILE: Number of write operations=0\n",
            "\tMap-Reduce Framework\n",
            "\t\tMap input records=26\n",
            "\t\tMap output records=60\n",
            "\t\tMap output bytes=1030\n",
            "\t\tMap output materialized bytes=1156\n",
            "\t\tInput split bytes=82\n",
            "\t\tCombine input records=0\n",
            "\t\tCombine output records=0\n",
            "\t\tReduce input groups=6\n",
            "\t\tReduce shuffle bytes=1156\n",
            "\t\tReduce input records=60\n",
            "\t\tReduce output records=6\n",
            "\t\tSpilled Records=120\n",
            "\t\tShuffled Maps =1\n",
            "\t\tFailed Shuffles=0\n",
            "\t\tMerged Map outputs=1\n",
            "\t\tGC time elapsed (ms)=0\n",
            "\t\tTotal committed heap usage (bytes)=617611264\n",
            "\tShuffle Errors\n",
            "\t\tBAD_ID=0\n",
            "\t\tCONNECTION=0\n",
            "\t\tIO_ERROR=0\n",
            "\t\tWRONG_LENGTH=0\n",
            "\t\tWRONG_MAP=0\n",
            "\t\tWRONG_REDUCE=0\n",
            "\tFile Input Format Counters \n",
            "\t\tBytes Read=256\n",
            "\tFile Output Format Counters \n",
            "\t\tBytes Written=119\n",
            "2024-04-05 14:36:42,997 INFO streaming.StreamJob: Output directory: output\n"
          ]
        }
      ]
    },
    {
      "cell_type": "code",
      "source": [
        "!cat /content/output/part-00000"
      ],
      "metadata": {
        "id": "4-7hv7-AqE_1",
        "colab": {
          "base_uri": "https://localhost:8080/"
        },
        "outputId": "b72a5c0f-1762-416f-b6d6-b9f23a226ab1"
      },
      "execution_count": 7,
      "outputs": [
        {
          "output_type": "stream",
          "name": "stdout",
          "text": [
            "(0,1),90.000000\t\n",
            "(0,2),100.000000\t\n",
            "(1,0),110.000000\t\n",
            "(1,1),240.000000\t\n",
            "(1,2),275.000000\t\n",
            "(1,2),310.000000\t\n"
          ]
        }
      ]
    }
  ]
}